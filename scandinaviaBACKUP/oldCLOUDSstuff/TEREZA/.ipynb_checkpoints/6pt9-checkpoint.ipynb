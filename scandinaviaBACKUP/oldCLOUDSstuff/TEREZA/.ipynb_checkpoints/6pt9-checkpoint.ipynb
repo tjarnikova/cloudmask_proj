{
 "metadata": {
  "name": "",
  "signature": "sha256:492cf792a4e2ba5efef24ee13e0898b318f795ec85e311e54a4daad98e6b0bcf"
 },
 "nbformat": 3,
 "nbformat_minor": 0,
 "worksheets": [
  {
   "cells": [
    {
     "cell_type": "code",
     "collapsed": false,
     "input": [
      "#6.9a, computing brightness temperature\n",
      "\n",
      "import numpy as np\n",
      "import math \n",
      "#Planck's Function\n",
      "# in this application, B(T) is irradiance seen, I \n",
      "#B(T) = I = (2 h * c^2 * lam^(-5) ) / (exp( h *c / (k * lam * T )) - 1 )\n",
      "# c = 2.998 * 10^8 (m^2 s^-1)\n",
      "# h = 6.626 * 10^-34 (J s )\n",
      "# k = 1.31 * 10^-23 (J/K)\n",
      "# lam = 12 * 10^-6 (m)\n",
      "# I = 6.2 (W m^-2 um^-1 sr^-1)\n",
      "# calling the exponent ( h *c / (k * lam * T )) = beta\n",
      "# rearrange this fxn to isolate beta as follows (intermediate steps done on paper):\n",
      "\n",
      "c = (2.998 * math.pow(10, 8))\n",
      "h = 6.626 * math.pow(10, -34)\n",
      "k = 1.31 * math.pow(10, -23)\n",
      "lam = 12 * math.pow(10,-6)\n",
      "I = 6.2\n",
      "\n",
      "beta = np.log((2*h*math.pow(c,2)*math.pow(lam,-5))/I + 1)\n",
      "print 'Beta is', beta\n",
      "\n",
      "#then we solve beta for brightness temperature BRITEMP\n",
      "\n",
      "BRITEMP = ( h *c / (k * lam * beta )) \n",
      "print 'The brightness temperature calculated by solving for beta is', BRITEMP\n",
      "\n",
      "\n",
      "#also solved this by directly inverting function (no intermediate beta step)\n",
      "# BRITEMP = ( (h * c) / (k * lam ) ) * 1/ (ln(2 h * c^2 * lam^(-5)/ I ) +1) \n",
      "\n",
      "\n",
      "BRITEMP = ( (h * c) / (k * lam ) ) * 1/ (np.log(2 * h * math.pow(c,2) * math.pow(lam,-5)/ I +1)) \n",
      "print 'The brightness temperature calculated using the inverse Planck function directly is', BRITEMP\n",
      "\n",
      "#create the original Planck fxn to check work\n",
      "\n",
      "CALCI = (2*h*math.pow(c,2)*math.pow(lam,-5))/((np.exp(h*c/(k*lam*69.58)))-1)\n",
      "\n",
      "print 'The irradiance calculated using the brightness temperature I found is', CALCI\n",
      "print 'This is equal to the seen irradience given by the problem' "
     ],
     "language": "python",
     "metadata": {},
     "outputs": [
      {
       "output_type": "stream",
       "stream": "stdout",
       "text": [
        "Beta is 18.1619778717\n",
        "The brightness temperature calculated by solving for beta is 69.5772686861\n",
        "The brightness temperature calculated using the inverse Planck function is 69.5772686861\n",
        "The irradiance calculated using the brightness temperature I found is 6.20442177714\n",
        "This is equal to the seen irradience given by the problem\n"
       ]
      }
     ],
     "prompt_number": 36
    },
    {
     "cell_type": "code",
     "collapsed": false,
     "input": [
      "#6.9b, computing actual temperature from emissivity\n",
      "#monochromatic emissivity eps = I / B(T) . calling B(T) B in the code\n",
      "# where I is irradience seen, B(T) is output of Planck's fxn\n",
      "\n",
      "#if we know emissivity of 0.9, we can calculate actual output of Planck's fxn \n",
      "#we can then use this output to solve actual temperature\n",
      "\n",
      "#eps = I / B\n",
      "# B = I / eps\n",
      "\n",
      "I = 6.2\n",
      "eps = .9\n",
      "\n",
      "B = I / eps\n",
      "\n",
      "print 'Output of Planck function calculated from known irradience and emissivity is', B \n",
      "\n",
      "REALTEMP = ( (h * c) / (k * lam ) ) * 1/ (np.log(2 * h * math.pow(c,2) * math.pow(lam,-5)/ B +1)) \n",
      "print 'The real temperature calculated using the inverse Planck function adjusted for emissivity is', REALTEMP\n",
      "print 'The emissivity is not equal to the ratio between the brightness temperature',\n",
      "print 'and the real temperature'"
     ],
     "language": "python",
     "metadata": {},
     "outputs": [
      {
       "output_type": "stream",
       "stream": "stdout",
       "text": [
        "Output of Planck function calculated from known irradience and emissivity is 6.88888888889\n",
        "The real temperature calculated using the inverse Planck function adjusted for emissivity is 69.9832526343\n",
        "The emissivity is not equal to the ratio between the brightness temperature and the real temperature\n"
       ]
      }
     ],
     "prompt_number": 38
    },
    {
     "cell_type": "code",
     "collapsed": false,
     "input": [],
     "language": "python",
     "metadata": {},
     "outputs": [],
     "prompt_number": 39
    },
    {
     "cell_type": "code",
     "collapsed": false,
     "input": [
      "\n"
     ],
     "language": "python",
     "metadata": {},
     "outputs": []
    }
   ],
   "metadata": {}
  }
 ]
}