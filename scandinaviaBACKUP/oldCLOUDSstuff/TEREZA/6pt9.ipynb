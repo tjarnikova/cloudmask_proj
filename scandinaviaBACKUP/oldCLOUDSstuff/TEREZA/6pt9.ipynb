{
 "metadata": {
  "name": "",
  "signature": "sha256:65f6b079425991506300cbf003394f6551ec85dcb0deb9a849c8d4f00060193d"
 },
 "nbformat": 3,
 "nbformat_minor": 0,
 "worksheets": [
  {
   "cells": [
    {
     "cell_type": "code",
     "collapsed": false,
     "input": [
      "#may be useful? http://stackoverflow.com/questions/1010583/mathematical-equation-manipulation-in-python\n",
      "#Planck's Function\n",
      "\n",
      "#B(T) = (2 h * c^2 * lam^(-5) ) / (exp( h *c / (k * lam * T )) - 1 )\n",
      "\n",
      "# in this application, B(T) is irradiance seen, I \n",
      "# rearrange this fxn to isolate temperature as follows:\n",
      "\n",
      "\n",
      "\n"
     ],
     "language": "python",
     "metadata": {},
     "outputs": [],
     "prompt_number": 1
    },
    {
     "cell_type": "code",
     "collapsed": false,
     "input": [],
     "language": "python",
     "metadata": {},
     "outputs": []
    }
   ],
   "metadata": {}
  }
 ]
}